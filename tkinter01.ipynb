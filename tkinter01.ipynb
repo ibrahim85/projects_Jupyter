{
 "cells": [
  {
   "cell_type": "code",
   "execution_count": null,
   "metadata": {
    "collapsed": true
   },
   "outputs": [],
   "source": [
    "# This is a sample of using tkinter in Jupyter "
   ]
  },
  {
   "cell_type": "code",
   "execution_count": 8,
   "metadata": {
    "collapsed": false
   },
   "outputs": [],
   "source": [
    "from tkinter import "
   ]
  },
  {
   "cell_type": "code",
   "execution_count": 4,
   "metadata": {
    "collapsed": false
   },
   "outputs": [],
   "source": [
    "root = Tk()\n",
    "root.title(\"Tkinter???\")\n",
    "\n",
    "v = IntVar()\n",
    "w = Label(root, text=\"Hello Tkinter!\")\n",
    "w.pack()\n",
    "\n",
    "Label(root, \n",
    "\t\t text=\"Red Text in Times Font\",\n",
    "\t\t fg = \"red\",\n",
    "\t\t font = \"Times\").pack()\n",
    "\n",
    "button = Button(root, text='Stop', width=25, command=root.destroy)\n",
    "button.pack()\n",
    "\n",
    "Radiobutton(root, \n",
    "            text=\"Python\",\n",
    "            padx = 20, \n",
    "            variable=v, \n",
    "            value=1).pack(anchor=W)\n",
    "\n",
    "\n",
    "root.mainloop()"
   ]
  },
  {
   "cell_type": "code",
   "execution_count": 2,
   "metadata": {
    "collapsed": false
   },
   "outputs": [],
   "source": [
    "from tkinter import *\n",
    "\n",
    "class Window(Frame):\n",
    "    \"\"\"Creat windows or Frames \"\"\"\n",
    "    \n",
    "    def __init__(self, master=None):\n",
    "        Frame.__init__(self, master)\n",
    "        self.master = master\n",
    "        self.init_window()\n",
    "        \n",
    "    def init_window(self):\n",
    "        self.master.title(\"GUI\")\n",
    "        self.pack(fill=BOTH, expand=1)\n",
    "        #quitButton = Button(self, text=\"Quit\", command=self.client_exit)\n",
    "        #quitButton.place(x=0, y=0)\n",
    "        \n",
    "        menu = Menu(self.master)\n",
    "        self.master.config(menu=menu)\n",
    "        \n",
    "        file = Menu(menu)\n",
    "        file.add_command(label=\"Save\", command=self.client_exit)\n",
    "        file.add_command(label=\"exit\", command=self.client_exit)\n",
    "        menu.add_cascade(label='File', menu=file)\n",
    "        \n",
    "        edit = Menu(menu)\n",
    "        edit.add_command(label='Undo')\n",
    "        menu.add_cascade(label=\"Edit\", menu=edit)\n",
    "        \n",
    "    def client_exit(self):\n",
    "        exit()\n",
    "    \n",
    "        \n",
    "        "
   ]
  },
  {
   "cell_type": "code",
   "execution_count": 3,
   "metadata": {
    "collapsed": false
   },
   "outputs": [
    {
     "data": {
      "text/plain": [
       "<tkinter.Tk object .>"
      ]
     },
     "execution_count": 3,
     "metadata": {},
     "output_type": "execute_result"
    }
   ],
   "source": [
    "mainwindow = Tk()\n",
    "mainwindow.geometry(\"100x100\")\n",
    "project = Window(mainwindow)\n",
    "mainwindow.mainloop()\n",
    "mainwindow"
   ]
  },
  {
   "cell_type": "code",
   "execution_count": 5,
   "metadata": {
    "collapsed": true
   },
   "outputs": [],
   "source": [
    "import tkinter as tk\n",
    "\n",
    "class Application(tk.Frame):\n",
    "    def __init__(self, master=None):\n",
    "        tk.Frame.__init__(self, master)\n",
    "        self.pack()\n",
    "        self.createWidgets()\n",
    "\n",
    "    def createWidgets(self):\n",
    "        self.hi_there = tk.Button(self)\n",
    "        self.hi_there[\"text\"] = \"Hello World\\n(click me)\"\n",
    "        self.hi_there[\"command\"] = self.say_hi\n",
    "        self.hi_there.pack(side=\"top\")\n",
    "\n",
    "        self.QUIT = tk.Button(self, text=\"QUIT\", fg=\"red\",\n",
    "                                            command=root.destroy)\n",
    "        self.QUIT.pack(side=\"bottom\")\n",
    "\n",
    "    def say_hi(self):\n",
    "        print(\"hi there, everyone!\")\n",
    "\n",
    "root = tk.Tk()\n",
    "app = Application(master=root)\n",
    "app.mainloop()"
   ]
  }
 ],
 "metadata": {
  "kernelspec": {
   "display_name": "Python 3",
   "language": "python",
   "name": "python3"
  },
  "language_info": {
   "codemirror_mode": {
    "name": "ipython",
    "version": 3
   },
   "file_extension": ".py",
   "mimetype": "text/x-python",
   "name": "python",
   "nbconvert_exporter": "python",
   "pygments_lexer": "ipython3",
   "version": "3.5.1"
  }
 },
 "nbformat": 4,
 "nbformat_minor": 0
}
