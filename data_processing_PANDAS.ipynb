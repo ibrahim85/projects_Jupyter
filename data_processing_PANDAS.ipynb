{
 "cells": [
  {
   "cell_type": "markdown",
   "metadata": {},
   "source": [
    "# Data encoding & processing"
   ]
  },
  {
   "cell_type": "code",
   "execution_count": 54,
   "metadata": {
    "collapsed": false
   },
   "outputs": [],
   "source": [
    "import os\n",
    "\n",
    "os.getcwd()"
   ]
  },
  {
   "cell_type": "markdown",
   "metadata": {},
   "source": [
    "## 1.1 Using pandas to process csv, excel, json, xml, hdf, netcdf, ...data format"
   ]
  },
  {
   "cell_type": "code",
   "execution_count": null,
   "metadata": {
    "collapsed": false
   },
   "outputs": [],
   "source": [
    "import numpy as np\n",
    "import pandas as pd\n",
    "import matplotlib\n",
    "import matplotlib.pyplot as plt\n",
    "\n",
    "%matplotlib inline\n",
    "#pd.set_option('display.mpl_style', 'default')\n",
    "#plt.style.use('ggplot')\n",
    "\n",
    "#pd.set_option('display.line_width', 5000) \n",
    "#pd.set_option('display.max_columns', 60) \n",
    "#figsize(15, 5)\n",
    "\n",
    "'''\n",
    "import csv\n",
    "with open('C:/Users/skang/data/climate01.csv') as f:\n",
    "    f_csv = csv.reader(f)   \n",
    "    \n",
    "    header = next(f_csv)\n",
    "    print(header)\n",
    "    \n",
    "    for row in f_csv:\n",
    "       print(row)\n",
    "'''\n",
    "\n",
    "'''\n",
    "df = pd.read_excel( 'xx.xcls')\n",
    "'''\n",
    "\n",
    "df01 = pd.read_csv('C:/Users/skang/data/climate01.csv')\n",
    "df01.head()\n",
    "pd.to_datetime(df01.Date)\n",
    "figsize = (15, 10)\n",
    "plt.plot(pd.to_datetime(df01.Date), df01.Tmax)\n",
    "\n",
    "#plt.plot(df01.Date.astype('datetime64[ns]'), df01.Tmax)\n",
    "#plt.show()\n",
    "\n",
    "\n",
    "    "
   ]
  },
  {
   "cell_type": "code",
   "execution_count": null,
   "metadata": {
    "collapsed": false
   },
   "outputs": [],
   "source": [
    "df01.Date = pd.to_datetime(df01.Date)\n",
    "df01.iloc[0:5,0:2]\n",
    "agg01 = df01.groupby('Rad').aggregate(sum)\n",
    "df01['Tmax'].plot(figsize=(15, 7))\n"
   ]
  },
  {
   "cell_type": "code",
   "execution_count": null,
   "metadata": {
    "collapsed": false,
    "scrolled": true
   },
   "outputs": [],
   "source": [
    "tables = pd.read_html(\"http://www.basketball-reference.com/leagues/NBA_2016_games.html\")\n",
    "print(tables)\n",
    "#games = tables[1]\n",
    "#games.head(10)"
   ]
  },
  {
   "cell_type": "code",
   "execution_count": null,
   "metadata": {
    "collapsed": false
   },
   "outputs": [],
   "source": [
    "#! pip install html5lib"
   ]
  },
  {
   "cell_type": "code",
   "execution_count": null,
   "metadata": {
    "collapsed": false
   },
   "outputs": [],
   "source": [
    "!jupyter nbconvert data_processing_PANDAS.ipynb --to slides --post serve"
   ]
  },
  {
   "cell_type": "code",
   "execution_count": 1,
   "metadata": {
    "collapsed": false
   },
   "outputs": [
    {
     "ename": "NameError",
     "evalue": "name 'deque' is not defined",
     "output_type": "error",
     "traceback": [
      "\u001b[1;31m---------------------------------------------------------------------------\u001b[0m",
      "\u001b[1;31mNameError\u001b[0m                                 Traceback (most recent call last)",
      "\u001b[1;32m<ipython-input-1-afbd4cb4a7a6>\u001b[0m in \u001b[0;36m<module>\u001b[1;34m()\u001b[0m\n\u001b[1;32m----> 1\u001b[1;33m \u001b[0mmyque\u001b[0m \u001b[1;33m=\u001b[0m \u001b[0mdeque\u001b[0m\u001b[1;33m(\u001b[0m\u001b[0mmaxlen\u001b[0m\u001b[1;33m=\u001b[0m\u001b[1;36m2\u001b[0m\u001b[1;33m)\u001b[0m\u001b[1;33m\u001b[0m\u001b[0m\n\u001b[0m",
      "\u001b[1;31mNameError\u001b[0m: name 'deque' is not defined"
     ]
    }
   ],
   "source": [
    "myque = deque(maxlen=2)"
   ]
  }
 ],
 "metadata": {
  "kernelspec": {
   "display_name": "Python 3",
   "language": "python",
   "name": "python3"
  },
  "language_info": {
   "codemirror_mode": {
    "name": "ipython",
    "version": 3
   },
   "file_extension": ".py",
   "mimetype": "text/x-python",
   "name": "python",
   "nbconvert_exporter": "python",
   "pygments_lexer": "ipython3",
   "version": "3.5.1"
  }
 },
 "nbformat": 4,
 "nbformat_minor": 0
}
