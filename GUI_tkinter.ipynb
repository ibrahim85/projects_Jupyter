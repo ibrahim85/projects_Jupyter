{
 "cells": [
  {
   "cell_type": "raw",
   "metadata": {
    "collapsed": true,
    "slideshow": {
     "slide_type": "skip"
    }
   },
   "source": [
    "# This is a sample of using tkinter in Jupyter \n"
   ]
  },
  {
   "cell_type": "code",
   "execution_count": 1,
   "metadata": {
    "collapsed": false,
    "slideshow": {
     "slide_type": "slide"
    }
   },
   "outputs": [],
   "source": [
    "import os, sys\n",
    "from tkinter import *\n",
    "root = Tk()\n",
    "root.minsize(300,300)\n",
    "root.geometry(\"500x500\")\n",
    "root.title(\"Tkinter_design\")\n",
    "\n",
    "v = IntVar()\n",
    "w = Label(root, text=\"Hello Tkinter!\")\n",
    "w.pack()\n",
    "\n",
    "Label(root, text=\"Red Text in Times Font\",fg = \"red\",font = \"Times\").pack()\n",
    "\n",
    "button1 = Button(root, text='Run', width=25, command=os.system(r\"python C:\\\\Users\\\\skang\\\\Documents\\\\Python Scripts\\\\test01.py\"))\n",
    "\n",
    "button1.pack()\n",
    "\n",
    "button2 = Button(root, text='Exit', width=25,command=root.destroy)\n",
    "button2.pack()\n",
    "                \n",
    "Radiobutton(root, \n",
    "            text=\"Python\",\n",
    "            padx = 20, \n",
    "            variable=v, \n",
    "            value=1).pack(anchor=W)\n",
    "\n",
    "\n",
    "root.mainloop()"
   ]
  },
  {
   "cell_type": "code",
   "execution_count": 6,
   "metadata": {
    "collapsed": false,
    "slideshow": {
     "slide_type": "subslide"
    }
   },
   "outputs": [],
   "source": [
    "from tkinter import *\n",
    "\n",
    "class Window(Frame):\n",
    "    \"\"\"Creat windows or Frames \"\"\"\n",
    "    \n",
    "    def __init__(self, master=None):\n",
    "        Frame.__init__(self, master)\n",
    "        self.master = master\n",
    "        self.init_window()\n",
    "        \n",
    "    def init_window(self):\n",
    "        self.master.title(\"GUI\")\n",
    "        self.pack(fill=BOTH, expand=1)\n",
    "        #quitButton = Button(self, text=\"Quit\", command=self.client_exit)\n",
    "        #quitButton.place(x=0, y=0)\n",
    "        \n",
    "        menu = Menu(self.master)\n",
    "        self.master.config(menu=menu)\n",
    "        \n",
    "        file = Menu(menu)\n",
    "        file.add_command(label=\"Save\", command=self.client_exit)\n",
    "        file.add_command(label=\"exit\", command=self.client_exit)\n",
    "        menu.add_cascade(label='File', menu=file)\n",
    "        \n",
    "        edit = Menu(menu)\n",
    "        edit.add_command(label='Undo')\n",
    "        menu.add_cascade(label=\"Edit\", menu=edit)\n",
    "        \n",
    "    def client_exit(self):\n",
    "        exit()\n",
    "    \n",
    "        \n",
    "        "
   ]
  },
  {
   "cell_type": "code",
   "execution_count": 3,
   "metadata": {
    "collapsed": false,
    "slideshow": {
     "slide_type": "slide"
    }
   },
   "outputs": [
    {
     "data": {
      "text/plain": [
       "<tkinter.Tk object .>"
      ]
     },
     "execution_count": 3,
     "metadata": {},
     "output_type": "execute_result"
    }
   ],
   "source": [
    "mainwindow = Tk()\n",
    "mainwindow.geometry(\"100x100\")\n",
    "project = Window(mainwindow)\n",
    "mainwindow.mainloop()\n",
    "mainwindow"
   ]
  },
  {
   "cell_type": "code",
   "execution_count": 2,
   "metadata": {
    "collapsed": false,
    "slideshow": {
     "slide_type": "slide"
    }
   },
   "outputs": [],
   "source": [
    "import tkinter as tk\n",
    "\n",
    "\n",
    "class Application(tk.Frame):\n",
    "    def __init__(self, master=None):\n",
    "        tk.Frame.__init__(self, master)\n",
    "        self.pack()\n",
    "        self.createWidgets()\n",
    "\n",
    "    def createWidgets(self):\n",
    "        self.hi_there = tk.Button(self)\n",
    "        self.hi_there[\"text\"] = \"Hello World\\n(click me)\"\n",
    "        self.hi_there[\"command\"] = self.say_hi\n",
    "        self.hi_there.pack(side=\"top\")\n",
    "\n",
    "        self.QUIT = tk.Button(self, text=\"QUIT\", fg=\"red\",\n",
    "                                            command=self.destroy)\n",
    "        self.QUIT.pack(side=\"bottom\")\n",
    "\n",
    "    def say_hi(self):\n",
    "        print(\"hi there, everyone!\")\n",
    "\n",
    "root = tk.Tk()\n",
    "app = Application(master=root)\n",
    "app.mainloop()"
   ]
  },
  {
   "cell_type": "code",
   "execution_count": 5,
   "metadata": {
    "collapsed": false,
    "slideshow": {
     "slide_type": "slide"
    }
   },
   "outputs": [
    {
     "data": {
      "text/plain": [
       "'C:\\\\Users\\\\skang'"
      ]
     },
     "execution_count": 5,
     "metadata": {},
     "output_type": "execute_result"
    }
   ],
   "source": [
    "\n",
    "\n",
    "\n"
   ]
  },
  {
   "cell_type": "code",
   "execution_count": 12,
   "metadata": {
    "collapsed": false,
    "slideshow": {
     "slide_type": "skip"
    }
   },
   "outputs": [
    {
     "name": "stderr",
     "output_type": "stream",
     "text": [
      "[NbConvertApp] Converting notebook GUI_tkinter.ipynb to slides\n",
      "[NbConvertApp] Writing 207498 bytes to GUI_tkinter.slides.html\n",
      "[NbConvertApp] Redirecting reveal.js requests to https://cdnjs.cloudflare.com/ajax/libs/reveal.js/3.1.0\n",
      "Traceback (most recent call last):\n",
      "  File \"C:\\Users\\skang\\Anaconda3\\Scripts\\jupyter-nbconvert-script.py\", line 5, in <module>\n",
      "    main()\n",
      "  File \"C:\\Users\\skang\\Anaconda3\\lib\\site-packages\\jupyter_core\\application.py\", line 267, in launch_instance\n",
      "    return super(JupyterApp, cls).launch_instance(argv=argv, **kwargs)\n",
      "  File \"C:\\Users\\skang\\Anaconda3\\lib\\site-packages\\traitlets\\config\\application.py\", line 596, in launch_instance\n",
      "    app.start()\n",
      "  File \"C:\\Users\\skang\\Anaconda3\\lib\\site-packages\\nbconvert\\nbconvertapp.py\", line 289, in start\n",
      "    self.convert_notebooks()\n",
      "  File \"C:\\Users\\skang\\Anaconda3\\lib\\site-packages\\nbconvert\\nbconvertapp.py\", line 412, in convert_notebooks\n",
      "    self.convert_single_notebook(notebook_filename)\n",
      "  File \"C:\\Users\\skang\\Anaconda3\\lib\\site-packages\\nbconvert\\nbconvertapp.py\", line 385, in convert_single_notebook\n",
      "    self.postprocess_single_notebook(write_results)\n",
      "  File \"C:\\Users\\skang\\Anaconda3\\lib\\site-packages\\nbconvert\\nbconvertapp.py\", line 370, in postprocess_single_notebook\n",
      "    self.postprocessor(write_results)\n",
      "  File \"C:\\Users\\skang\\Anaconda3\\lib\\site-packages\\nbconvert\\postprocessors\\base.py\", line 28, in __call__\n",
      "    self.postprocess(input)\n",
      "  File \"C:\\Users\\skang\\Anaconda3\\lib\\site-packages\\nbconvert\\postprocessors\\serve.py\", line 87, in postprocess\n",
      "    http_server.listen(self.port, address=self.ip)\n",
      "  File \"C:\\Users\\skang\\Anaconda3\\lib\\site-packages\\tornado\\tcpserver.py\", line 126, in listen\n",
      "    sockets = bind_sockets(port, address=address)\n",
      "  File \"C:\\Users\\skang\\Anaconda3\\lib\\site-packages\\tornado\\netutil.py\", line 196, in bind_sockets\n",
      "    sock.bind(sockaddr)\n",
      "OSError: [WinError 10048] Only one usage of each socket address (protocol/network address/port) is normally permitted\n"
     ]
    }
   ],
   "source": [
    "!jupyter nbconvert GUI_tkinter.ipynb --to slides --post serve"
   ]
  },
  {
   "cell_type": "code",
   "execution_count": null,
   "metadata": {
    "collapsed": true,
    "slideshow": {
     "slide_type": "skip"
    }
   },
   "outputs": [],
   "source": []
  }
 ],
 "metadata": {
  "celltoolbar": "Slideshow",
  "kernelspec": {
   "display_name": "Python 3",
   "language": "python",
   "name": "python3"
  },
  "language_info": {
   "codemirror_mode": {
    "name": "ipython",
    "version": 3
   },
   "file_extension": ".py",
   "mimetype": "text/x-python",
   "name": "python",
   "nbconvert_exporter": "python",
   "pygments_lexer": "ipython3",
   "version": "3.5.1"
  }
 },
 "nbformat": 4,
 "nbformat_minor": 0
}
